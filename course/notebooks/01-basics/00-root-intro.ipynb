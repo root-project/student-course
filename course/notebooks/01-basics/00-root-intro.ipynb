{
 "cells": [
  {
   "cell_type": "markdown",
   "metadata": {
    "slideshow": {
     "slide_type": "slide"
    }
   },
   "source": [
    "# What is ROOT?"
   ]
  },
  {
   "cell_type": "markdown",
   "metadata": {
    "slideshow": {
     "slide_type": "slide"
    }
   },
   "source": [
    "- ROOT is a software framework that can be used for:\n",
    "  - Data processing\n",
    "  - Data analysis\n",
    "  - Data visualisation\n",
    "  - Data storage\n",
    "  \n",
    "\n",
    "- ROOT is written mainly in **C++**, with powerful **Python** bindings\n",
    "\n",
    "- Adopted in High Energy Physics and other sciences (but also industry)\n",
    "  - **1 EB** of data in ROOT format\n",
    "  - Fits and parameters’ estimations for discoveries (e.g. the Higgs)\n",
    "  - Thousands of ROOT plots in scientific publications"
   ]
  },
  {
   "cell_type": "markdown",
   "metadata": {
    "slideshow": {
     "slide_type": "slide"
    }
   },
   "source": [
    "## ROOT's building blocks\n",
    "\n",
    "ROOT can be seen as a collection of building blocks for various activities, such as:\n",
    "- **Data analysis: histograms, graphs, functions**\n",
    "- **High-level analysis interfaces**: RDataFrame\n",
    "- **Statistical tools** (RooFit/RooStats): rich modeling and statistical inference\n",
    "- **I/O**: storage of any C++ object, **column-wise** storage of datasets\n",
    "- **Math**: non-trivial functions (e.g. Erf, Bessel), optimised math functions\n",
    "- **C++ interpretation**: full language compliance\n",
    "- **Multivariate analysis** (TMVA): e.g. Boosted decision trees, Neural Nets\n",
    "- **Advanced graphics** (2D, 3D, event display)\n",
    "- And more: HTTP servering,  JavaScript visualisation"
   ]
  },
  {
   "cell_type": "markdown",
   "metadata": {
    "slideshow": {
     "slide_type": "slide"
    }
   },
   "source": [
    "<center><img src=\"../../images/root1.png\"></center>"
   ]
  },
  {
   "cell_type": "markdown",
   "metadata": {
    "slideshow": {
     "slide_type": "slide"
    }
   },
   "source": [
    "# Today's goals\n",
    "\n",
    "- be able to conduct simple data analysis using RDataFrame, understand how to run the analysis efficiently\n",
    "- get familiar with basic ROOT features: histograms, graphs, functions\n",
    "- get to know what ROOT file format is\n",
    "- don't be afraid of reaching out, asking questions and contributing"
   ]
  },
  {
   "cell_type": "markdown",
   "metadata": {
    "slideshow": {
     "slide_type": "slide"
    }
   },
   "source": [
    "## Useful links\n",
    "\n",
    "- ROOT users forum (for questions, support, discussion): https://root-forum.cern.ch\n",
    "\n",
    "- ROOT guide for beginners: https://root.cern/primer/\n",
    "\n",
    "- ROOT tutorials grouped by topic: https://root.cern/doc/master/group__Tutorials.html\n",
    "\n",
    "- ROOT website: https://root.cern\n",
    "\n",
    "- ROOT GitHub repository: https://github.com/root-project/root\n",
    "\n",
    "- ROOT training material: https://github.com/root-project/training"
   ]
  }
 ],
 "metadata": {
  "celltoolbar": "Slideshow",
  "kernelspec": {
   "display_name": "Python 3",
   "language": "python",
   "name": "python3"
  },
  "language_info": {
   "codemirror_mode": {
    "name": "ipython",
    "version": 3
   },
   "file_extension": ".py",
   "mimetype": "text/x-python",
   "name": "python",
   "nbconvert_exporter": "python",
   "pygments_lexer": "ipython3",
   "version": "3.8.6"
  }
 },
 "nbformat": 4,
 "nbformat_minor": 2
}
