{
 "cells": [
  {
   "cell_type": "markdown",
   "metadata": {},
   "source": [
    "# Including systematic variations in your analysis\n",
    "\n",
    "At some point in the development of a HEP data analysis workflow, the treatment of systematic variations in the observed quantities will become necessary. From the standpoint of a HEP physicist, the study of systematic variations involves many different, often conceptually complex cases. From the standpoint of the pure numerical computation, however, what typically happens is that the application must produce multiple results instead of a single one, each computed in a \"universe\" in which certain inputs take modified values.\n",
    "\n",
    "In this notebook, we explore the RDataFrame API devoted to helping the user include systematic variations in their analysis code."
   ]
  },
  {
   "cell_type": "code",
   "execution_count": 2,
   "metadata": {},
   "outputs": [],
   "source": [
    "import ROOT\n",
    "\n",
    "treename = \"myDataset\"\n",
    "filename = \"../../data/collections_dataset.root\"\n",
    "df = ROOT.RDataFrame(treename, filename)"
   ]
  },
  {
   "cell_type": "markdown",
   "metadata": {},
   "source": [
    "## Registering variations for one observable\n",
    "\n",
    "As a basic example, let's see how to include two variations for the column `px`, including giving them special labels. Note that in the call to `Vary` we can use values from columns available in the dataset, including the column we are currently registering variations for. In this example, we are booking the nominal histogram via the usual `Histo1D` method.\n",
    "\n",
    "Note the following in the example:\n",
    "\n",
    "* Custom names for variations can be passed in a list via the `variationTags` parameter.\n",
    "* The name of the input column is used as the default name for the variation, unless the `variationName` parameter is used as in this example.\n",
    "* The full variation name will be composed of the varied column name and the variation tags (e.g. \"mypt:down\", \"mypt:up\" in this example).\n",
    "* The histogram is filled with values of the `good_pt` column, defined after the `Vary` call. The presence of systematic variations for certain columns is automatically propagated through filters, defines and actions, and RDataFrame will take these dependencies into account when producing varied results."
   ]
  },
  {
   "cell_type": "code",
   "execution_count": 3,
   "metadata": {},
   "outputs": [],
   "source": [
    "df = df.Define(\"pt\", \"sqrt(px*px + py*py)\")\n",
    "\n",
    "nominal_histo = (\n",
    "    df.Vary(\n",
    "        colName=\"pt\",\n",
    "        expression=\"ROOT::RVec<ROOT::RVecD>{pt*0.95, pt*1.05}\",\n",
    "        variationTags=[\"down\", \"up\"],\n",
    "        variationName=\"mypt\")\n",
    "      .Define(\"good_pt\", \"pt[E>100]\")\n",
    "      .Histo1D(\"good_pt\")\n",
    ")"
   ]
  },
  {
   "cell_type": "markdown",
   "metadata": {},
   "source": [
    "In order to retrieve also all the varied histograms, we pass the pointer to the action just booked to the `VariationsFor` function, as shown below. This will return a dictionary containing the nominal histogram as well as all the varied histograms."
   ]
  },
  {
   "cell_type": "code",
   "execution_count": null,
   "metadata": {},
   "outputs": [],
   "source": [
    "all_histos = ROOT.RDF.Experimental.VariationsFor(nominal_histo)\n",
    "\n",
    "c = ROOT.TCanvas()\n",
    "\n",
    "all_histos[\"nominal\"].SetLineColor(ROOT.kBlue)\n",
    "all_histos[\"nominal\"].Draw()\n",
    "\n",
    "all_histos[\"mypt:down\"].SetLineColor(ROOT.kRed)\n",
    "all_histos[\"mypt:down\"].Draw(\"SAME\")\n",
    "\n",
    "all_histos[\"mypt:up\"].SetLineColor(ROOT.kGreen)\n",
    "all_histos[\"mypt:up\"].Draw(\"SAME\")\n",
    "\n",
    "c.Draw()"
   ]
  },
  {
   "cell_type": "markdown",
   "metadata": {},
   "source": [
    "## Registering variations for multiple columns simultaneously\n",
    "\n",
    "The `Vary` function also allows to vary multiple columns simultaneously (in \"lockstep\"). The expression in this case must return an RVec of RVecs, one per column: each inner vector contains the varied values for one column, and the inner vectors follow the same ordering as the column names passed as first argument. Besides the variation tags, in this case we also have to explicitly pass a variation name as there is no one column name that can be used as default."
   ]
  },
  {
   "cell_type": "code",
   "execution_count": 7,
   "metadata": {},
   "outputs": [],
   "source": [
    "df = ROOT.RDataFrame(treename, filename)\n",
    "\n",
    "nominal_histo_lockstep = (\n",
    "    df.Vary(\n",
    "        colNames=[\"px\", \"py\"],\n",
    "        expression=\"ROOT::RVec<ROOT::RVec<ROOT::RVecD>>{{px*0.95, px*1.05}, {py*0.95, py*1.05}}\",\n",
    "        variationTags=[\"down\", \"up\"],\n",
    "        variationName=\"pxAndpy\")\n",
    "      .Define(\"pt_lockstep\", \"sqrt(px*px + py*py)[E>100]\")\n",
    "      .Histo1D(\"pt_lockstep\")\n",
    ")"
   ]
  },
  {
   "cell_type": "code",
   "execution_count": null,
   "metadata": {},
   "outputs": [],
   "source": [
    "all_histos = ROOT.RDF.Experimental.VariationsFor(nominal_histo_lockstep)\n",
    "\n",
    "c = ROOT.TCanvas()\n",
    "\n",
    "all_histos[\"nominal\"].SetLineColor(ROOT.kBlue)\n",
    "all_histos[\"nominal\"].Draw()\n",
    "\n",
    "all_histos[\"pxAndpy:down\"].SetLineColor(ROOT.kRed)\n",
    "all_histos[\"pxAndpy:down\"].Draw(\"SAME\")\n",
    "\n",
    "all_histos[\"pxAndpy:up\"].SetLineColor(ROOT.kGreen)\n",
    "all_histos[\"pxAndpy:up\"].Draw(\"SAME\")\n",
    "\n",
    "c.Draw()"
   ]
  },
  {
   "cell_type": "code",
   "execution_count": null,
   "metadata": {},
   "outputs": [],
   "source": []
  }
 ],
 "metadata": {
  "kernelspec": {
   "display_name": "venv",
   "language": "python",
   "name": "python3"
  },
  "language_info": {
   "codemirror_mode": {
    "name": "ipython",
    "version": 3
   },
   "file_extension": ".py",
   "mimetype": "text/x-python",
   "name": "python",
   "nbconvert_exporter": "python",
   "pygments_lexer": "ipython3",
   "version": "3.12.7"
  }
 },
 "nbformat": 4,
 "nbformat_minor": 2
}
