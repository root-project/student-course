{
 "cells": [
  {
   "cell_type": "markdown",
   "id": "db74c75d",
   "metadata": {},
   "source": [
    "# Exercise: Fitting a Lorentzian peak over a quadratic background"
   ]
  },
  {
   "cell_type": "markdown",
   "id": "29cf335b",
   "metadata": {},
   "source": [
    "Let's try to fit a slightly more complex distribution than a gaussian. The following histogram should fit well a Lorenzian peak on quadratic background.\n",
    "\n",
    "Here is the histogram:"
   ]
  },
  {
   "cell_type": "markdown",
   "metadata": {},
   "source": [
    "Let's try to fit a slightly more complex distribution than a gaussian. The following histogram should fit well a Lorenzian peak on quadratic background.\n",
    "\n",
    "Here is the histogram:"
   ]
  },
  {
   "cell_type": "code",
   "execution_count": null,
   "id": "1bab7c47",
   "metadata": {},
   "outputs": [],
   "source": [
    "import ROOT\n",
    "import numpy as np\n",
    "\n",
    "data = np.loadtxt(\"fitting-exercise-data.txt\")\n",
    "\n",
    "h = ROOT.TH1D(\n",
    "   name=\"histo\", title=\"Lorentzian Peak on Quadratic Background\",\n",
    "   nbinsx=60, xlow=0, xup=3)\n",
    "\n",
    "h.FillN(ntimes=data.size, x=data, w=np.ones(data.size))"
   ]
  },
  {
   "cell_type": "markdown",
   "id": "6e50f3b4",
   "metadata": {},
   "source": [
    "Here are the functions we will use; a quadratic background function:"
   ]
  },
  {
   "cell_type": "code",
   "execution_count": null,
   "id": "5ef0c8c1",
   "metadata": {
    "scrolled": true
   },
   "outputs": [],
   "source": [
    "%%cpp\n",
    "\n",
    "double background(double *x, double *par) {\n",
    "  return par[0] + par[1]*x[0] + par[2]*x[0]*x[0];\n",
    "}"
   ]
  },
  {
   "cell_type": "markdown",
   "id": "8a1fdf29",
   "metadata": {},
   "source": [
    "A function for the Lorenzian peak (N.B. for simplicity we already put the peak in the right place :) )"
   ]
  },
  {
   "cell_type": "code",
   "execution_count": null,
   "id": "48334f65",
   "metadata": {},
   "outputs": [],
   "source": [
    "%%cpp\n",
    "\n",
    "double lorentzianPeak(double *x, double *par) {\n",
    "  return (0.5*par[0]*0.2/TMath::Pi())\n",
    "         / TMath::Max(1.e-10, (x[0] - 1.)*(x[0] - 1.) + .25*0.04);\n",
    "}"
   ]
  },
  {
   "cell_type": "markdown",
   "id": "ca4cf200",
   "metadata": {},
   "source": [
    "...and our fit function is the sum of background and peak functions:"
   ]
  },
  {
   "cell_type": "code",
   "execution_count": null,
   "id": "101d957c",
   "metadata": {},
   "outputs": [],
   "source": [
    "%%cpp\n",
    "\n",
    "double fitFunction(double *x, double *par) {\n",
    "  return background(x, par) + lorentzianPeak(x, &par[3]);\n",
    "}"
   ]
  },
  {
   "cell_type": "markdown",
   "id": "fd9a33a4",
   "metadata": {},
   "source": [
    "**Expected result:**"
   ]
  },
  {
   "cell_type": "markdown",
   "id": "f6dc69ef",
   "metadata": {},
   "source": [
    "<center><img src=\"../../images/fitting-exercise-expected.png\"><center>"
   ]
  },
  {
   "cell_type": "markdown",
   "id": "ea5760aa",
   "metadata": {},
   "source": [
    "**Useful doc links:**\n",
    "\n",
    "- [TH1](https://root.cern/doc/master/classTH1.html)\n",
    "- [TF1](https://root.cern.ch/doc/master/classTF1.html)\n",
    "- [TH1::Fit](https://root.cern.ch/doc/master/classTH1.html#a63eb028df86bc86c8e20c989eb23fb2a)"
   ]
  },
  {
   "cell_type": "code",
   "execution_count": null,
   "id": "c1142581",
   "metadata": {},
   "outputs": [],
   "source": [
    "# Play with the histogram here. You will have to:\n",
    "# - find an alternative way of filling the histogram with the provided data using UHI and numpy\n",
    "# - define a TF1 object that represents the fit function\n",
    "# - fit the histogram with that function\n",
    "# - draw the result (how do you plot the error bars? :) )"
   ]
  },
  {
   "cell_type": "markdown",
   "id": "209c77a4",
   "metadata": {},
   "source": [
    "## Solution"
   ]
  },
  {
   "cell_type": "markdown",
   "id": "fce04dbc",
   "metadata": {},
   "source": [
    "<details>\n",
    "    <summary><b>Click on this text to show the solution</b></summary>\n",
    "<pre>\n",
    "h[...] = np.histogram(data, bins=60, range=(0, 3))[0]\n",
    "</pre>\n",
    "\n",
    "<pre>\n",
    "%jsroot on\n",
    "c = ROOT.TCanvas()\n",
    "\n",
    "fitFcn = ROOT.TF1(\"fitFcn\", ROOT.fitFunction, xmin=0, xmax=3, npar=4)\n",
    "\n",
    "h.Fit(fitFcn)\n",
    "h.Draw(\"E\")\n",
    "c.Draw()\n",
    "</pre>\n",
    "</details>"
   ]
  }
 ],
 "metadata": {
  "kernelspec": {
   "display_name": "Python 3 (ipykernel)",
   "language": "python",
   "name": "python3"
  },
  "language_info": {
   "codemirror_mode": {
    "name": "ipython",
    "version": 3
   },
   "file_extension": ".py",
   "mimetype": "text/x-python",
   "name": "python",
   "nbconvert_exporter": "python",
   "pygments_lexer": "ipython3",
   "version": "3.11.9"
  }
 },
 "nbformat": 4,
 "nbformat_minor": 5
}
