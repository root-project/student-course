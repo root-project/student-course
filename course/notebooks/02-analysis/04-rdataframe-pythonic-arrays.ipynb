{
 "cells": [
  {
   "attachments": {},
   "cell_type": "markdown",
   "id": "2e8e9ace",
   "metadata": {
    "slideshow": {
     "slide_type": "slide"
    }
   },
   "source": [
    "## Working with `numpy` arrays\n",
    "- RDataFrame offers interoperability with `numpy` arrays. \n",
    "\n",
    "- It can be created from a dictionary of such arrays and it can also export its contents to the same format. \n",
    "\n",
    "- All operations are available also when using the `numpy`-based dataset.\n",
    "\n",
    "- **Note:** this support is limited to one-dimensional numpy arrays, which are directly mapped to columns in the RDataFrame."
   ]
  },
  {
   "cell_type": "code",
   "execution_count": null,
   "id": "128e586a",
   "metadata": {
    "slideshow": {
     "slide_type": "subslide"
    }
   },
   "outputs": [],
   "source": [
    "import numpy\n",
    "import ROOT\n",
    "\n",
    "np_dict = {colname: numpy.random.rand(100) for colname in [\"a\",\"b\",\"c\"]}\n",
    "\n",
    "df = ROOT.RDF.FromNumpy(np_dict)\n",
    "\n",
    "print(f\"Columns in the RDataFrame: {df.GetColumnNames()}\")"
   ]
  },
  {
   "cell_type": "code",
   "execution_count": null,
   "id": "dde693ee",
   "metadata": {
    "slideshow": {
     "slide_type": "subslide"
    }
   },
   "outputs": [],
   "source": [
    "co = df.Count()\n",
    "m_a = df.Mean(\"a\")\n",
    "\n",
    "fil1 = df.Filter(\"c < 0.7\")\n",
    "def1 = fil1.Define(\"d\", \"a+b+c\")\n",
    "h = def1.Histo1D(\"d\")\n",
    "\n",
    "c = ROOT.TCanvas()\n",
    "h.Draw()\n",
    "\n",
    "print(f\"Number of rows in the dataset: {co.GetValue()}\")\n",
    "print(f\"Average value of column a: {m_a.GetValue()}\")\n",
    "c.Draw()"
   ]
  },
  {
   "cell_type": "code",
   "execution_count": null,
   "id": "47a18efa",
   "metadata": {
    "scrolled": true,
    "slideshow": {
     "slide_type": "subslide"
    }
   },
   "outputs": [],
   "source": [
    "# Export the modified dataframe to a dictionary of numpy arrays\n",
    "\n",
    "np_dict_mod = def1.AsNumpy()\n",
    "\n",
    "np_dict_mod"
   ]
  },
  {
   "cell_type": "markdown",
   "id": "1238b943",
   "metadata": {
    "slideshow": {
     "slide_type": "slide"
    }
   },
   "source": [
    "## Working with `awkward` arrays\n",
    "\n",
    "Utility functions are available for interoperability with the `awkward` library, described at https://awkward-array.org/doc/main/user-guide/how-to-convert-rdataframe.html.\n",
    "\n",
    "The function for RDataFrame to Awkward conversion is ak.from_rdataframe(). The argument to this function accepts a tuple of strings that are the RDataFrame column names. By default this function returns ak.Array type."
   ]
  },
  {
   "cell_type": "code",
   "execution_count": null,
   "id": "9b7cb279",
   "metadata": {
    "slideshow": {
     "slide_type": "subslide"
    }
   },
   "outputs": [],
   "source": [
    "import awkward as ak\n",
    "\n",
    "treename = \"myDataset\"\n",
    "filename = \"../../data/collections_dataset.root\"\n",
    "df = ROOT.RDataFrame(treename, filename)\n",
    "\n",
    "array = ak.from_rdataframe(\n",
    "    df,\n",
    "    columns=(\n",
    "        \"x\",\n",
    "        \"y\",\n",
    "        \"z\",\n",
    "    ),\n",
    ")\n",
    "\n",
    "array"
   ]
  },
  {
   "cell_type": "markdown",
   "id": "579907a0",
   "metadata": {
    "slideshow": {
     "slide_type": "subslide"
    }
   },
   "source": [
    "The function for Awkward to RDataFrame conversion is ak.to_rdataframe().\n",
    "\n",
    "The argument to this function requires a dictionary: { `<column name string>` : `<awkward array>` }. This function always returns an RDataFrame object.\n",
    "\n",
    "The arrays given for each column have to be equal length:"
   ]
  },
  {
   "cell_type": "code",
   "execution_count": null,
   "id": "55ef9ba9",
   "metadata": {
    "slideshow": {
     "slide_type": "subslide"
    }
   },
   "outputs": [],
   "source": [
    "array_x = ak.Array(\n",
    "    [\n",
    "        {\"x\": [1.1, 1.2, 1.3]},\n",
    "        {\"x\": [2.1, 2.2]},\n",
    "        {\"x\": [3.1]},\n",
    "        {\"x\": [4.1, 4.2, 4.3, 4.4]},\n",
    "        {\"x\": [5.1]},\n",
    "    ]\n",
    ")\n",
    "array_y = ak.Array([1, 2, 3, 4, 5])\n",
    "array_z = ak.Array([[1.1], [2.1, 2.3, 2.4], [3.1], [4.1, 4.2, 4.3], [5.1]])\n",
    "\n",
    "assert len(array_x) == len(array_y) == len(array_z)\n",
    "\n",
    "df = ak.to_rdataframe({\"x\": array_x, \"y\": array_y, \"z\": array_z})\n",
    "\n",
    "df.Display([\"x\",\"y\",\"z\"]).Print()"
   ]
  }
 ],
 "metadata": {
  "celltoolbar": "Slideshow",
  "kernelspec": {
   "display_name": "Python 3 (ipykernel)",
   "language": "python",
   "name": "python3"
  },
  "language_info": {
   "codemirror_mode": {
    "name": "ipython",
    "version": 3
   },
   "file_extension": ".py",
   "mimetype": "text/x-python",
   "name": "python",
   "nbconvert_exporter": "python",
   "pygments_lexer": "ipython3",
   "version": "3.11.3"
  }
 },
 "nbformat": 4,
 "nbformat_minor": 5
}
