{
 "cells": [
  {
   "cell_type": "markdown",
   "metadata": {
    "slideshow": {
     "slide_type": "slide"
    }
   },
   "source": [
    "## ROOT dataframe tutorial: Dimuon spectrum\n",
    "\n",
    "This tutorial shows you how to analyze datasets using RDataFrame from a Python notebook. The example analysis performs the following steps:\n",
    "\n",
    "* Connect a ROOT dataframe to a dataset containing 61 mio. events recorded by CMS in 2012\n",
    "* Filter the events being relevant for your analysis\n",
    "* Compute the invariant mass of the selected dimuon candidates\n",
    "* Plot the invariant mass spectrum showing resonances up to the Z mass\n",
    "\n",
    "This material is based on the analysis done by Stefan Wunsch, available [here](http://opendata.web.cern.ch/record/12342) in CERN's Open Data portal.\n",
    "\n",
    "<center><img src=\"../../../images/dimuonSpectrum.png\"></center>"
   ]
  },
  {
   "cell_type": "code",
   "execution_count": null,
   "metadata": {
    "slideshow": {
     "slide_type": "fragment"
    }
   },
   "outputs": [],
   "source": [
    "import ROOT   "
   ]
  },
  {
   "cell_type": "markdown",
   "metadata": {
    "slideshow": {
     "slide_type": "slide"
    }
   },
   "source": [
    "## Create a ROOT dataframe in Python\n",
    "First we will create a ROOT dataframe that is connected to a dataset named `Events` stored in a ROOT file. The file is pulled in via [XRootD](http://xrootd.org/) from EOS public, but note how it could also be stored in your CERNBox space or in any other EOS repository accessible from SWAN (e.g. the experiment ones).\n",
    "\n",
    "The dataset Events is a TTree and has the following branches:\n",
    "\n",
    "| Branch name | Data type | Description |\n",
    "|-------------|-----------|-------------|\n",
    "| `nMuon` | `unsigned int` | Number of muons in this event |\n",
    "| `Muon_pt` | `float[nMuon]` | Transverse momentum of the muons stored as an array of size `nMuon` |\n",
    "| `Muon_eta` | `float[nMuon]` | Pseudo-rapidity of the muons stored as an array of size `nMuon` |\n",
    "| `Muon_phi` | `float[nMuon]` | Azimuth of the muons stored as an array of size `nMuon` |\n",
    "| `Muon_charge` | `int[nMuon]` | Charge of the muons stored as an array of size `nMuon` and either -1 or 1 |\n",
    "| `Muon_mass` | `float[nMuon]` | Mass of the muons stored as an array of size `nMuon` |"
   ]
  },
  {
   "cell_type": "code",
   "execution_count": null,
   "metadata": {
    "slideshow": {
     "slide_type": "subslide"
    }
   },
   "outputs": [],
   "source": [
    "treename = \"Events\"\n",
    "filename = \"root://eospublic.cern.ch//eos/opendata/cms/derived-data/AOD2NanoAODOutreachTool/Run2012BC_DoubleMuParked_Muons.root\"\n",
    "df = ROOT.RDataFrame(treename, filename)"
   ]
  },
  {
   "cell_type": "markdown",
   "metadata": {
    "slideshow": {
     "slide_type": "slide"
    }
   },
   "source": [
    "## Run only on a part of the dataset\n",
    "\n",
    "The full dataset contains half a year of CMS data taking in 2012 with 61 mio events. For the purpose of this example, we use the [Range](https://root.cern/doc/master/classROOT_1_1RDF_1_1RInterface.html#a1b36b7868831de2375e061bb06cfc225) node to run only on a small part of the dataset. This feature also comes in handy in the development phase of your analysis.\n",
    "\n",
    "Feel free to experiment with this parameter!"
   ]
  },
  {
   "cell_type": "code",
   "execution_count": null,
   "metadata": {},
   "outputs": [],
   "source": [
    "# Take only the first 1M events\n",
    "df_range = # do something here"
   ]
  },
  {
   "cell_type": "markdown",
   "metadata": {
    "slideshow": {
     "slide_type": "slide"
    }
   },
   "source": [
    "## Filter relevant events for this analysis\n",
    "\n",
    "Physics datasets are often general purpose datasets and therefore need extensive filtering of the events for the actual analysis. Here, we implement only a simple selection based on the number of muons and the charge to cut down the dataset in events that are relevant for our study.\n",
    "\n",
    "In particular, we are applying two filters to keep:\n",
    "1. Events with exactly two muons\n",
    "2. Events with muons of opposite charge"
   ]
  },
  {
   "cell_type": "code",
   "execution_count": null,
   "metadata": {
    "slideshow": {
     "slide_type": "subslide"
    }
   },
   "outputs": [],
   "source": [
    "# Change the first strings of both following operations to proper C++ expressions\n",
    "# Use the points 1, 2 above as hints for what to write in your expression\n",
    "df_2mu = df_range.Filter(\"DO SOMETHING WITH COLUMN nMuon\", \"Events with exactly two muons\")\n",
    "df_oc = df_2mu.Filter(\"DO SOMETHING WITH COLUMN Muon_charge\", \"Muons with opposite charge\")"
   ]
  },
  {
   "cell_type": "markdown",
   "metadata": {
    "slideshow": {
     "slide_type": "slide"
    }
   },
   "source": [
    "## Perform complex operations in Python, efficiently!\n",
    "\n",
    "Operations in the RDataFrame event loop are executed in C++ to ensure performance and allow for multithreading scalability. In many cases, the functions needed for the analysis can be already found in the standard C++ library, in the ROOT library or in your favourite analysis framework. Here, we use a `Define` node to compute the invariant mass of the muons in the dataset. An implementation of this function is already available in the [`ROOT::VecOps`](https://root.cern/doc/master/group__vecops.html) namespace."
   ]
  },
  {
   "cell_type": "code",
   "execution_count": null,
   "metadata": {
    "slideshow": {
     "slide_type": "subslide"
    }
   },
   "outputs": [],
   "source": [
    "df_mass = df_oc.Define(\"Dimuon_mass\", \"SOME FUNCTION TO COMPUTE THE INVARIANT MASS WITH COLUMNS (Muon_pt, Muon_eta, Muon_phi, Muon_mass)\")"
   ]
  },
  {
   "cell_type": "markdown",
   "metadata": {
    "slideshow": {
     "slide_type": "slide"
    }
   },
   "source": [
    "## Make a histogram of the newly created column"
   ]
  },
  {
   "cell_type": "code",
   "execution_count": null,
   "metadata": {
    "slideshow": {
     "slide_type": "fragment"
    }
   },
   "outputs": [],
   "source": [
    "# These are the parameters you would give to a histogram object constructor\n",
    "# Put them in the right order inside the parentheses below\n",
    "# You are effectively passing a tuple to the `Histo1D` operation as seen previously in other notebooks\n",
    "nbins = 30000\n",
    "low = 0.25\n",
    "up = 300\n",
    "histo_name = \"Dimuon_mass\"\n",
    "histo_title = histo_name\n",
    "\n",
    "h = df_mass.Histo1D((\"PUT HISTOGRAM PARAMETERS HERE IN THE CORRECT ORDER\"), \"Dimuon_mass\")"
   ]
  },
  {
   "cell_type": "markdown",
   "metadata": {
    "slideshow": {
     "slide_type": "slide"
    }
   },
   "source": [
    "## Book a Report of the dataframe filters"
   ]
  },
  {
   "cell_type": "code",
   "execution_count": null,
   "metadata": {
    "slideshow": {
     "slide_type": "fragment"
    }
   },
   "outputs": [],
   "source": [
    "report = # your code here"
   ]
  },
  {
   "cell_type": "markdown",
   "metadata": {
    "slideshow": {
     "slide_type": "slide"
    }
   },
   "source": [
    "## Start data processing\n",
    "This is the final step of the analysis: retrieving the result. We are expecting to see a plot of the mass of the dimuon spectrum similar to the one shown at the beginning of this exercise (remember we are running on fewer entries in this exercise). Finally in the last cell we should see a report of the filters applied on the dataset."
   ]
  },
  {
   "cell_type": "code",
   "execution_count": null,
   "metadata": {
    "slideshow": {
     "slide_type": "fragment"
    }
   },
   "outputs": [],
   "source": [
    "ROOT.gStyle.SetOptStat(0)\n",
    "ROOT.gStyle.SetTextFont(42)\n",
    "c = ROOT.TCanvas(\"c\", \"\", 800, 700)\n",
    "c.SetLogx()\n",
    "c.SetLogy()\n",
    "h.SetTitle(\"\")\n",
    "h.GetXaxis().SetTitle(\"m_{#mu#mu} (GeV)\")\n",
    "h.GetXaxis().SetTitleSize(0.04)\n",
    "h.GetYaxis().SetTitle(\"N_{Events}\")\n",
    "h.GetYaxis().SetTitleSize(0.04)\n",
    "h.Draw()\n",
    "\n",
    "label = ROOT.TLatex()\n",
    "label.SetNDC(True)\n",
    "label.SetTextSize(0.040)\n",
    "label.DrawLatex(0.100, 0.920, \"#bf{CMS Open Data}\")\n",
    "label.SetTextSize(0.030)\n",
    "label.DrawLatex(0.500, 0.920, \"#sqrt{s} = 8 TeV, L_{int} = 11.6 fb^{-1}\")"
   ]
  },
  {
   "cell_type": "code",
   "execution_count": null,
   "metadata": {
    "slideshow": {
     "slide_type": "slide"
    }
   },
   "outputs": [],
   "source": [
    "%jsroot on\n",
    "c.Draw()"
   ]
  },
  {
   "cell_type": "code",
   "execution_count": null,
   "metadata": {
    "slideshow": {
     "slide_type": "slide"
    }
   },
   "outputs": [],
   "source": [
    "report.Print()"
   ]
  },
  {
   "cell_type": "markdown",
   "metadata": {
    "slideshow": {
     "slide_type": "slide"
    }
   },
   "source": [
    "## Additional: store all your custom function in a separate header file\n",
    "\n",
    "In addition, it is possible to store user-defined functions (like the invariant mass shown before) in a separate .h file. In this way, we can keep the notebook only for Dataframe operations.\n",
    "\n",
    "To achieve this, **open** the .h file `rdataframe-dimuon.h` in the same folder of this notebook, and edit it to perform the same operation of the previous section.\\\n",
    "If you have doubts, look here in the [docs](https://root.cern.ch/doc/master/group__vecops.html#gaa5798925785053643e12a326044fab37) for the invariant mass definition!"
   ]
  },
  {
   "cell_type": "code",
   "execution_count": null,
   "metadata": {},
   "outputs": [],
   "source": [
    "#EDIT the .h file"
   ]
  },
  {
   "cell_type": "markdown",
   "metadata": {},
   "source": [
    "Now you are ready to load it in the notebook execution with this command:"
   ]
  },
  {
   "cell_type": "code",
   "execution_count": null,
   "metadata": {},
   "outputs": [],
   "source": [
    "def my_initialization_function():\n",
    "    ROOT.gInterpreter.Declare(\"#include \\\"rdataframe-dimuon.h\\\"\")\n",
    "\n",
    "my_initialization_function()"
   ]
  },
  {
   "cell_type": "markdown",
   "metadata": {},
   "source": [
    "And finally, define a new column with the custom function:"
   ]
  },
  {
   "cell_type": "code",
   "execution_count": null,
   "metadata": {},
   "outputs": [],
   "source": [
    "df_mass_custom = #your code here"
   ]
  },
  {
   "cell_type": "markdown",
   "metadata": {},
   "source": [
    "Now we can repeate the steps before, to see if the results are identical"
   ]
  },
  {
   "cell_type": "code",
   "execution_count": null,
   "metadata": {
    "slideshow": {
     "slide_type": "fragment"
    }
   },
   "outputs": [],
   "source": [
    "# your code here"
   ]
  },
  {
   "cell_type": "markdown",
   "metadata": {
    "slideshow": {
     "slide_type": "slide"
    }
   },
   "source": [
    "## Additional: run the example on the `KubeCluster`"
   ]
  },
  {
   "cell_type": "markdown",
   "metadata": {},
   "source": [
    "We can also run this example on the `KubeCluster`.\n",
    "\n",
    "- Create a new `KubeCluster`;\n",
    "- Scale it with a few workers (a couple will be enough);\n",
    "- Connect to the cluster, using with the `Client` object;\n",
    "- Scale the cluster with 2-3 workers."
   ]
  },
  {
   "cell_type": "code",
   "execution_count": null,
   "metadata": {},
   "outputs": [],
   "source": [
    "# paste your Cluster code here!"
   ]
  },
  {
   "cell_type": "markdown",
   "metadata": {},
   "source": [
    "After creating and scaling the cluster, you can simply copy the code above! \n",
    "\n",
    "The only differences:\n",
    "- Remember to use `ROOT.RDF.Experimental.Distributed.Dask.RDataFrame` instead of `ROOT.RDataFrame`;\n",
    "- You cannot use the `Range` method (yet!). However, now you are running the full dataset, with ~62M events!\n",
    "- If you want to use custom functions, stored in a header file, load them in the notebook with the `ROOT.RDF.Experimental.Distributed.initialize(my_initialization_function)`"
   ]
  },
  {
   "cell_type": "code",
   "execution_count": null,
   "metadata": {},
   "outputs": [],
   "source": [
    "# your code here"
   ]
  }
 ],
 "metadata": {
  "celltoolbar": "Slideshow",
  "kernelspec": {
   "display_name": "Python 3 (ipykernel)",
   "language": "python",
   "name": "python3"
  },
  "language_info": {
   "codemirror_mode": {
    "name": "ipython",
    "version": 3
   },
   "file_extension": ".py",
   "mimetype": "text/x-python",
   "name": "python",
   "nbconvert_exporter": "python",
   "pygments_lexer": "ipython3",
   "version": "3.11.8"
  }
 },
 "nbformat": 4,
 "nbformat_minor": 4
}
